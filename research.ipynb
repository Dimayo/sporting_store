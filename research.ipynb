{
 "cells": [
  {
   "cell_type": "markdown",
   "id": "fa480a37",
   "metadata": {},
   "source": [
    "## Imports"
   ]
  },
  {
   "cell_type": "code",
   "execution_count": 94,
   "id": "a7b2fe20",
   "metadata": {},
   "outputs": [],
   "source": [
    "import pandas as pd\n",
    "import matplotlib.pyplot as plt\n",
    "import seaborn as sns\n",
    "import numpy as np\n",
    "import re\n",
    "\n",
    "from sqlalchemy import create_engine, text\n",
    "from scipy import stats\n",
    "from sklearn.preprocessing import LabelEncoder\n",
    "from sklearn.ensemble import RandomForestClassifier\n",
    "from sklearn.ensemble import GradientBoostingClassifier\n",
    "from sklearn.model_selection import StratifiedKFold, RandomizedSearchCV"
   ]
  },
  {
   "attachments": {},
   "cell_type": "markdown",
   "id": "0613b392",
   "metadata": {},
   "source": [
    "## Loading data"
   ]
  },
  {
   "cell_type": "code",
   "execution_count": 2,
   "id": "987a2bf0",
   "metadata": {},
   "outputs": [],
   "source": [
    "# Подключаемся к базе данных\n",
    "\n",
    "engine = create_engine('sqlite:///data/shop_database.db')\n",
    "conn = engine.connect()"
   ]
  },
  {
   "cell_type": "code",
   "execution_count": 3,
   "id": "40e97435",
   "metadata": {},
   "outputs": [],
   "source": [
    "# Загружаем таблицы \n",
    "\n",
    "df_pers = pd.read_sql(sql=text('SELECT * FROM personal_data'),con=conn)"
   ]
  },
  {
   "cell_type": "code",
   "execution_count": 4,
   "id": "599caf36",
   "metadata": {},
   "outputs": [
    {
     "data": {
      "text/html": [
       "<div>\n",
       "<style scoped>\n",
       "    .dataframe tbody tr th:only-of-type {\n",
       "        vertical-align: middle;\n",
       "    }\n",
       "\n",
       "    .dataframe tbody tr th {\n",
       "        vertical-align: top;\n",
       "    }\n",
       "\n",
       "    .dataframe thead th {\n",
       "        text-align: right;\n",
       "    }\n",
       "</style>\n",
       "<table border=\"1\" class=\"dataframe\">\n",
       "  <thead>\n",
       "    <tr style=\"text-align: right;\">\n",
       "      <th></th>\n",
       "      <th>id</th>\n",
       "      <th>gender</th>\n",
       "      <th>age</th>\n",
       "      <th>education</th>\n",
       "      <th>city</th>\n",
       "      <th>country</th>\n",
       "    </tr>\n",
       "  </thead>\n",
       "  <tbody>\n",
       "    <tr>\n",
       "      <th>0</th>\n",
       "      <td>0</td>\n",
       "      <td>0</td>\n",
       "      <td>36</td>\n",
       "      <td>среднее</td>\n",
       "      <td>1201</td>\n",
       "      <td>32</td>\n",
       "    </tr>\n",
       "    <tr>\n",
       "      <th>1</th>\n",
       "      <td>4</td>\n",
       "      <td>0</td>\n",
       "      <td>35</td>\n",
       "      <td>среднее</td>\n",
       "      <td>1134</td>\n",
       "      <td>32</td>\n",
       "    </tr>\n",
       "    <tr>\n",
       "      <th>2</th>\n",
       "      <td>6</td>\n",
       "      <td>1</td>\n",
       "      <td>52</td>\n",
       "      <td>среднее</td>\n",
       "      <td>1188</td>\n",
       "      <td>32</td>\n",
       "    </tr>\n",
       "    <tr>\n",
       "      <th>3</th>\n",
       "      <td>7</td>\n",
       "      <td>0</td>\n",
       "      <td>37</td>\n",
       "      <td>среднее</td>\n",
       "      <td>1198</td>\n",
       "      <td>32</td>\n",
       "    </tr>\n",
       "    <tr>\n",
       "      <th>4</th>\n",
       "      <td>9</td>\n",
       "      <td>0</td>\n",
       "      <td>48</td>\n",
       "      <td>среднее</td>\n",
       "      <td>1134</td>\n",
       "      <td>32</td>\n",
       "    </tr>\n",
       "  </tbody>\n",
       "</table>\n",
       "</div>"
      ],
      "text/plain": [
       "   id  gender  age education  city  country\n",
       "0   0       0   36   среднее  1201       32\n",
       "1   4       0   35   среднее  1134       32\n",
       "2   6       1   52   среднее  1188       32\n",
       "3   7       0   37   среднее  1198       32\n",
       "4   9       0   48   среднее  1134       32"
      ]
     },
     "execution_count": 4,
     "metadata": {},
     "output_type": "execute_result"
    }
   ],
   "source": [
    "df_pers.head()"
   ]
  },
  {
   "cell_type": "code",
   "execution_count": 5,
   "id": "ba92fc8e",
   "metadata": {},
   "outputs": [
    {
     "data": {
      "text/plain": [
       "(89241, 6)"
      ]
     },
     "execution_count": 5,
     "metadata": {},
     "output_type": "execute_result"
    }
   ],
   "source": [
    "df_pers.shape"
   ]
  },
  {
   "cell_type": "code",
   "execution_count": 6,
   "id": "92ca9592",
   "metadata": {},
   "outputs": [],
   "source": [
    "df_coef = pd.read_sql(sql=text('SELECT * FROM personal_data_coeffs'),con=conn)"
   ]
  },
  {
   "cell_type": "code",
   "execution_count": 7,
   "id": "64a3e7e5",
   "metadata": {},
   "outputs": [
    {
     "data": {
      "text/html": [
       "<div>\n",
       "<style scoped>\n",
       "    .dataframe tbody tr th:only-of-type {\n",
       "        vertical-align: middle;\n",
       "    }\n",
       "\n",
       "    .dataframe tbody tr th {\n",
       "        vertical-align: top;\n",
       "    }\n",
       "\n",
       "    .dataframe thead th {\n",
       "        text-align: right;\n",
       "    }\n",
       "</style>\n",
       "<table border=\"1\" class=\"dataframe\">\n",
       "  <thead>\n",
       "    <tr style=\"text-align: right;\">\n",
       "      <th></th>\n",
       "      <th>id</th>\n",
       "      <th>lbt_coef</th>\n",
       "      <th>ac_coef</th>\n",
       "      <th>sm_coef</th>\n",
       "      <th>personal_coef</th>\n",
       "    </tr>\n",
       "  </thead>\n",
       "  <tbody>\n",
       "    <tr>\n",
       "      <th>0</th>\n",
       "      <td>0</td>\n",
       "      <td>5.078678</td>\n",
       "      <td>-0.307147</td>\n",
       "      <td>0.959027</td>\n",
       "      <td>0.5072</td>\n",
       "    </tr>\n",
       "    <tr>\n",
       "      <th>1</th>\n",
       "      <td>3</td>\n",
       "      <td>7.764766</td>\n",
       "      <td>-0.030225</td>\n",
       "      <td>0.794720</td>\n",
       "      <td>0.4304</td>\n",
       "    </tr>\n",
       "    <tr>\n",
       "      <th>2</th>\n",
       "      <td>4</td>\n",
       "      <td>4.569378</td>\n",
       "      <td>0.063693</td>\n",
       "      <td>0.820892</td>\n",
       "      <td>0.5072</td>\n",
       "    </tr>\n",
       "    <tr>\n",
       "      <th>3</th>\n",
       "      <td>6</td>\n",
       "      <td>8.150379</td>\n",
       "      <td>0.075200</td>\n",
       "      <td>0.836140</td>\n",
       "      <td>0.4304</td>\n",
       "    </tr>\n",
       "    <tr>\n",
       "      <th>4</th>\n",
       "      <td>7</td>\n",
       "      <td>5.188231</td>\n",
       "      <td>-0.000134</td>\n",
       "      <td>0.944113</td>\n",
       "      <td>0.5072</td>\n",
       "    </tr>\n",
       "  </tbody>\n",
       "</table>\n",
       "</div>"
      ],
      "text/plain": [
       "   id  lbt_coef   ac_coef   sm_coef  personal_coef\n",
       "0   0  5.078678 -0.307147  0.959027         0.5072\n",
       "1   3  7.764766 -0.030225  0.794720         0.4304\n",
       "2   4  4.569378  0.063693  0.820892         0.5072\n",
       "3   6  8.150379  0.075200  0.836140         0.4304\n",
       "4   7  5.188231 -0.000134  0.944113         0.5072"
      ]
     },
     "execution_count": 7,
     "metadata": {},
     "output_type": "execute_result"
    }
   ],
   "source": [
    "df_coef.head()"
   ]
  },
  {
   "cell_type": "code",
   "execution_count": 8,
   "id": "e5b401c4",
   "metadata": {},
   "outputs": [
    {
     "data": {
      "text/plain": [
       "(104989, 5)"
      ]
     },
     "execution_count": 8,
     "metadata": {},
     "output_type": "execute_result"
    }
   ],
   "source": [
    "df_coef.shape"
   ]
  },
  {
   "cell_type": "code",
   "execution_count": 9,
   "id": "aa449f08",
   "metadata": {},
   "outputs": [],
   "source": [
    "df_purch = pd.read_sql(sql=text('SELECT * FROM purchases'),con=conn)"
   ]
  },
  {
   "cell_type": "code",
   "execution_count": 10,
   "id": "05656900",
   "metadata": {},
   "outputs": [
    {
     "data": {
      "text/html": [
       "<div>\n",
       "<style scoped>\n",
       "    .dataframe tbody tr th:only-of-type {\n",
       "        vertical-align: middle;\n",
       "    }\n",
       "\n",
       "    .dataframe tbody tr th {\n",
       "        vertical-align: top;\n",
       "    }\n",
       "\n",
       "    .dataframe thead th {\n",
       "        text-align: right;\n",
       "    }\n",
       "</style>\n",
       "<table border=\"1\" class=\"dataframe\">\n",
       "  <thead>\n",
       "    <tr style=\"text-align: right;\">\n",
       "      <th></th>\n",
       "      <th>id</th>\n",
       "      <th>product</th>\n",
       "      <th>colour</th>\n",
       "      <th>cost</th>\n",
       "      <th>product_sex</th>\n",
       "      <th>base_sale</th>\n",
       "      <th>dt</th>\n",
       "    </tr>\n",
       "  </thead>\n",
       "  <tbody>\n",
       "    <tr>\n",
       "      <th>0</th>\n",
       "      <td>0</td>\n",
       "      <td>Велосипед горный женский Stern Mira 2.0 26\"</td>\n",
       "      <td>белый/синий</td>\n",
       "      <td>13599</td>\n",
       "      <td>0.0</td>\n",
       "      <td>1</td>\n",
       "      <td>7</td>\n",
       "    </tr>\n",
       "    <tr>\n",
       "      <th>1</th>\n",
       "      <td>0</td>\n",
       "      <td>Стол Outventure</td>\n",
       "      <td>зелёный</td>\n",
       "      <td>1499</td>\n",
       "      <td>NaN</td>\n",
       "      <td>0</td>\n",
       "      <td>37</td>\n",
       "    </tr>\n",
       "    <tr>\n",
       "      <th>2</th>\n",
       "      <td>0</td>\n",
       "      <td>Набор Outventure: стол + 4 стула</td>\n",
       "      <td>бежевый</td>\n",
       "      <td>4799</td>\n",
       "      <td>NaN</td>\n",
       "      <td>0</td>\n",
       "      <td>37</td>\n",
       "    </tr>\n",
       "    <tr>\n",
       "      <th>3</th>\n",
       "      <td>3</td>\n",
       "      <td>Бутсы мужские GSD Astro</td>\n",
       "      <td>белый</td>\n",
       "      <td>1599</td>\n",
       "      <td>1.0</td>\n",
       "      <td>0</td>\n",
       "      <td>13</td>\n",
       "    </tr>\n",
       "    <tr>\n",
       "      <th>4</th>\n",
       "      <td>3</td>\n",
       "      <td>Мяч футбольный PUMA TEAMFINAL 21.2 FIFA QUALIT...</td>\n",
       "      <td>мультицвет</td>\n",
       "      <td>7199</td>\n",
       "      <td>NaN</td>\n",
       "      <td>0</td>\n",
       "      <td>27</td>\n",
       "    </tr>\n",
       "  </tbody>\n",
       "</table>\n",
       "</div>"
      ],
      "text/plain": [
       "   id                                            product       colour   cost  \\\n",
       "0   0        Велосипед горный женский Stern Mira 2.0 26\"  белый/синий  13599   \n",
       "1   0                                    Стол Outventure      зелёный   1499   \n",
       "2   0                   Набор Outventure: стол + 4 стула      бежевый   4799   \n",
       "3   3                            Бутсы мужские GSD Astro        белый   1599   \n",
       "4   3  Мяч футбольный PUMA TEAMFINAL 21.2 FIFA QUALIT...   мультицвет   7199   \n",
       "\n",
       "   product_sex  base_sale  dt  \n",
       "0          0.0          1   7  \n",
       "1          NaN          0  37  \n",
       "2          NaN          0  37  \n",
       "3          1.0          0  13  \n",
       "4          NaN          0  27  "
      ]
     },
     "execution_count": 10,
     "metadata": {},
     "output_type": "execute_result"
    }
   ],
   "source": [
    "df_purch.head()"
   ]
  },
  {
   "cell_type": "code",
   "execution_count": 11,
   "id": "46f9708d",
   "metadata": {},
   "outputs": [
    {
     "data": {
      "text/plain": [
       "(786260, 7)"
      ]
     },
     "execution_count": 11,
     "metadata": {},
     "output_type": "execute_result"
    }
   ],
   "source": [
    "df_purch.shape"
   ]
  },
  {
   "cell_type": "code",
   "execution_count": 12,
   "id": "651002d3",
   "metadata": {},
   "outputs": [],
   "source": [
    "# Загружаем утерянные данные\n",
    "\n",
    "df_lost = pd.read_csv('data\\personal_data.csv.gz', compression='gzip', header=0)"
   ]
  },
  {
   "cell_type": "code",
   "execution_count": 13,
   "id": "49beedd5",
   "metadata": {},
   "outputs": [
    {
     "data": {
      "text/html": [
       "<div>\n",
       "<style scoped>\n",
       "    .dataframe tbody tr th:only-of-type {\n",
       "        vertical-align: middle;\n",
       "    }\n",
       "\n",
       "    .dataframe tbody tr th {\n",
       "        vertical-align: top;\n",
       "    }\n",
       "\n",
       "    .dataframe thead th {\n",
       "        text-align: right;\n",
       "    }\n",
       "</style>\n",
       "<table border=\"1\" class=\"dataframe\">\n",
       "  <thead>\n",
       "    <tr style=\"text-align: right;\">\n",
       "      <th></th>\n",
       "      <th>id</th>\n",
       "      <th>age</th>\n",
       "      <th>education</th>\n",
       "      <th>city</th>\n",
       "      <th>country</th>\n",
       "    </tr>\n",
       "  </thead>\n",
       "  <tbody>\n",
       "    <tr>\n",
       "      <th>0</th>\n",
       "      <td>101492</td>\n",
       "      <td>32</td>\n",
       "      <td>среднее</td>\n",
       "      <td>1188</td>\n",
       "      <td>32</td>\n",
       "    </tr>\n",
       "    <tr>\n",
       "      <th>1</th>\n",
       "      <td>42690</td>\n",
       "      <td>20</td>\n",
       "      <td>высшее</td>\n",
       "      <td>1134</td>\n",
       "      <td>32</td>\n",
       "    </tr>\n",
       "    <tr>\n",
       "      <th>2</th>\n",
       "      <td>113001</td>\n",
       "      <td>27</td>\n",
       "      <td>среднее</td>\n",
       "      <td>1187</td>\n",
       "      <td>32</td>\n",
       "    </tr>\n",
       "    <tr>\n",
       "      <th>3</th>\n",
       "      <td>163654</td>\n",
       "      <td>49</td>\n",
       "      <td>высшее</td>\n",
       "      <td>1160</td>\n",
       "      <td>32</td>\n",
       "    </tr>\n",
       "    <tr>\n",
       "      <th>4</th>\n",
       "      <td>69523</td>\n",
       "      <td>44</td>\n",
       "      <td>среднее</td>\n",
       "      <td>1137</td>\n",
       "      <td>32</td>\n",
       "    </tr>\n",
       "  </tbody>\n",
       "</table>\n",
       "</div>"
      ],
      "text/plain": [
       "       id  age education  city  country\n",
       "0  101492   32   среднее  1188       32\n",
       "1   42690   20    высшее  1134       32\n",
       "2  113001   27   среднее  1187       32\n",
       "3  163654   49    высшее  1160       32\n",
       "4   69523   44   среднее  1137       32"
      ]
     },
     "execution_count": 13,
     "metadata": {},
     "output_type": "execute_result"
    }
   ],
   "source": [
    "df_lost.head()"
   ]
  },
  {
   "cell_type": "code",
   "execution_count": 14,
   "id": "048da8fb",
   "metadata": {},
   "outputs": [
    {
     "data": {
      "text/plain": [
       "(15748, 5)"
      ]
     },
     "execution_count": 14,
     "metadata": {},
     "output_type": "execute_result"
    }
   ],
   "source": [
    "df_lost.shape"
   ]
  },
  {
   "cell_type": "code",
   "execution_count": 15,
   "id": "4c7ee477",
   "metadata": {},
   "outputs": [],
   "source": [
    "# Объединяем данные о клиентах с утерянными данными\n",
    "\n",
    "df_clients = pd.concat([df_pers, df_lost])"
   ]
  },
  {
   "cell_type": "code",
   "execution_count": 16,
   "id": "51fa7122",
   "metadata": {},
   "outputs": [
    {
     "data": {
      "text/plain": [
       "(104989, 6)"
      ]
     },
     "execution_count": 16,
     "metadata": {},
     "output_type": "execute_result"
    }
   ],
   "source": [
    "df_clients.shape"
   ]
  },
  {
   "cell_type": "code",
   "execution_count": 17,
   "id": "09ca635c",
   "metadata": {},
   "outputs": [],
   "source": [
    "# Добавляем признак с коэффициентом клиента\n",
    "\n",
    "df_clients = df_clients.merge(df_coef[['id', 'personal_coef']], on='id', how='inner')"
   ]
  },
  {
   "cell_type": "code",
   "execution_count": 18,
   "id": "092eadc3",
   "metadata": {},
   "outputs": [
    {
     "data": {
      "text/html": [
       "<div>\n",
       "<style scoped>\n",
       "    .dataframe tbody tr th:only-of-type {\n",
       "        vertical-align: middle;\n",
       "    }\n",
       "\n",
       "    .dataframe tbody tr th {\n",
       "        vertical-align: top;\n",
       "    }\n",
       "\n",
       "    .dataframe thead th {\n",
       "        text-align: right;\n",
       "    }\n",
       "</style>\n",
       "<table border=\"1\" class=\"dataframe\">\n",
       "  <thead>\n",
       "    <tr style=\"text-align: right;\">\n",
       "      <th></th>\n",
       "      <th>id</th>\n",
       "      <th>gender</th>\n",
       "      <th>age</th>\n",
       "      <th>education</th>\n",
       "      <th>city</th>\n",
       "      <th>country</th>\n",
       "      <th>personal_coef</th>\n",
       "    </tr>\n",
       "  </thead>\n",
       "  <tbody>\n",
       "    <tr>\n",
       "      <th>0</th>\n",
       "      <td>0</td>\n",
       "      <td>0.0</td>\n",
       "      <td>36</td>\n",
       "      <td>среднее</td>\n",
       "      <td>1201</td>\n",
       "      <td>32</td>\n",
       "      <td>0.5072</td>\n",
       "    </tr>\n",
       "    <tr>\n",
       "      <th>1</th>\n",
       "      <td>4</td>\n",
       "      <td>0.0</td>\n",
       "      <td>35</td>\n",
       "      <td>среднее</td>\n",
       "      <td>1134</td>\n",
       "      <td>32</td>\n",
       "      <td>0.5072</td>\n",
       "    </tr>\n",
       "    <tr>\n",
       "      <th>2</th>\n",
       "      <td>6</td>\n",
       "      <td>1.0</td>\n",
       "      <td>52</td>\n",
       "      <td>среднее</td>\n",
       "      <td>1188</td>\n",
       "      <td>32</td>\n",
       "      <td>0.4304</td>\n",
       "    </tr>\n",
       "    <tr>\n",
       "      <th>3</th>\n",
       "      <td>7</td>\n",
       "      <td>0.0</td>\n",
       "      <td>37</td>\n",
       "      <td>среднее</td>\n",
       "      <td>1198</td>\n",
       "      <td>32</td>\n",
       "      <td>0.5072</td>\n",
       "    </tr>\n",
       "    <tr>\n",
       "      <th>4</th>\n",
       "      <td>9</td>\n",
       "      <td>0.0</td>\n",
       "      <td>48</td>\n",
       "      <td>среднее</td>\n",
       "      <td>1134</td>\n",
       "      <td>32</td>\n",
       "      <td>0.5072</td>\n",
       "    </tr>\n",
       "  </tbody>\n",
       "</table>\n",
       "</div>"
      ],
      "text/plain": [
       "   id  gender  age education  city  country  personal_coef\n",
       "0   0     0.0   36   среднее  1201       32         0.5072\n",
       "1   4     0.0   35   среднее  1134       32         0.5072\n",
       "2   6     1.0   52   среднее  1188       32         0.4304\n",
       "3   7     0.0   37   среднее  1198       32         0.5072\n",
       "4   9     0.0   48   среднее  1134       32         0.5072"
      ]
     },
     "execution_count": 18,
     "metadata": {},
     "output_type": "execute_result"
    }
   ],
   "source": [
    "df_clients.head()"
   ]
  },
  {
   "attachments": {},
   "cell_type": "markdown",
   "id": "03c98973",
   "metadata": {},
   "source": [
    "## Data Preparation"
   ]
  },
  {
   "attachments": {},
   "cell_type": "markdown",
   "id": "5aeadbc5",
   "metadata": {},
   "source": [
    "### Working with personal data"
   ]
  },
  {
   "cell_type": "code",
   "execution_count": 19,
   "id": "495a25f7",
   "metadata": {},
   "outputs": [
    {
     "data": {
      "text/html": [
       "<div>\n",
       "<style scoped>\n",
       "    .dataframe tbody tr th:only-of-type {\n",
       "        vertical-align: middle;\n",
       "    }\n",
       "\n",
       "    .dataframe tbody tr th {\n",
       "        vertical-align: top;\n",
       "    }\n",
       "\n",
       "    .dataframe thead th {\n",
       "        text-align: right;\n",
       "    }\n",
       "</style>\n",
       "<table border=\"1\" class=\"dataframe\">\n",
       "  <thead>\n",
       "    <tr style=\"text-align: right;\">\n",
       "      <th></th>\n",
       "      <th>id</th>\n",
       "      <th>gender</th>\n",
       "      <th>age</th>\n",
       "      <th>city</th>\n",
       "      <th>country</th>\n",
       "      <th>personal_coef</th>\n",
       "    </tr>\n",
       "  </thead>\n",
       "  <tbody>\n",
       "    <tr>\n",
       "      <th>count</th>\n",
       "      <td>104989.000000</td>\n",
       "      <td>89241.000000</td>\n",
       "      <td>104989.000000</td>\n",
       "      <td>104989.000000</td>\n",
       "      <td>104989.000000</td>\n",
       "      <td>104989.000000</td>\n",
       "    </tr>\n",
       "    <tr>\n",
       "      <th>mean</th>\n",
       "      <td>89084.680967</td>\n",
       "      <td>0.572965</td>\n",
       "      <td>38.016707</td>\n",
       "      <td>1133.788492</td>\n",
       "      <td>31.989075</td>\n",
       "      <td>0.458363</td>\n",
       "    </tr>\n",
       "    <tr>\n",
       "      <th>std</th>\n",
       "      <td>51414.198487</td>\n",
       "      <td>0.494650</td>\n",
       "      <td>12.283166</td>\n",
       "      <td>179.309965</td>\n",
       "      <td>0.943848</td>\n",
       "      <td>0.062570</td>\n",
       "    </tr>\n",
       "    <tr>\n",
       "      <th>min</th>\n",
       "      <td>0.000000</td>\n",
       "      <td>0.000000</td>\n",
       "      <td>5.000000</td>\n",
       "      <td>0.000000</td>\n",
       "      <td>0.000000</td>\n",
       "      <td>0.233600</td>\n",
       "    </tr>\n",
       "    <tr>\n",
       "      <th>25%</th>\n",
       "      <td>44532.000000</td>\n",
       "      <td>0.000000</td>\n",
       "      <td>30.000000</td>\n",
       "      <td>1134.000000</td>\n",
       "      <td>32.000000</td>\n",
       "      <td>0.430400</td>\n",
       "    </tr>\n",
       "    <tr>\n",
       "      <th>50%</th>\n",
       "      <td>89158.000000</td>\n",
       "      <td>1.000000</td>\n",
       "      <td>38.000000</td>\n",
       "      <td>1167.000000</td>\n",
       "      <td>32.000000</td>\n",
       "      <td>0.468800</td>\n",
       "    </tr>\n",
       "    <tr>\n",
       "      <th>75%</th>\n",
       "      <td>133588.000000</td>\n",
       "      <td>1.000000</td>\n",
       "      <td>46.000000</td>\n",
       "      <td>1188.000000</td>\n",
       "      <td>32.000000</td>\n",
       "      <td>0.507200</td>\n",
       "    </tr>\n",
       "    <tr>\n",
       "      <th>max</th>\n",
       "      <td>178004.000000</td>\n",
       "      <td>1.000000</td>\n",
       "      <td>77.000000</td>\n",
       "      <td>1213.000000</td>\n",
       "      <td>51.000000</td>\n",
       "      <td>0.558400</td>\n",
       "    </tr>\n",
       "  </tbody>\n",
       "</table>\n",
       "</div>"
      ],
      "text/plain": [
       "                  id        gender            age           city  \\\n",
       "count  104989.000000  89241.000000  104989.000000  104989.000000   \n",
       "mean    89084.680967      0.572965      38.016707    1133.788492   \n",
       "std     51414.198487      0.494650      12.283166     179.309965   \n",
       "min         0.000000      0.000000       5.000000       0.000000   \n",
       "25%     44532.000000      0.000000      30.000000    1134.000000   \n",
       "50%     89158.000000      1.000000      38.000000    1167.000000   \n",
       "75%    133588.000000      1.000000      46.000000    1188.000000   \n",
       "max    178004.000000      1.000000      77.000000    1213.000000   \n",
       "\n",
       "             country  personal_coef  \n",
       "count  104989.000000  104989.000000  \n",
       "mean       31.989075       0.458363  \n",
       "std         0.943848       0.062570  \n",
       "min         0.000000       0.233600  \n",
       "25%        32.000000       0.430400  \n",
       "50%        32.000000       0.468800  \n",
       "75%        32.000000       0.507200  \n",
       "max        51.000000       0.558400  "
      ]
     },
     "execution_count": 19,
     "metadata": {},
     "output_type": "execute_result"
    }
   ],
   "source": [
    "df_clients.describe()"
   ]
  },
  {
   "cell_type": "code",
   "execution_count": 20,
   "id": "43f689ed",
   "metadata": {},
   "outputs": [
    {
     "name": "stdout",
     "output_type": "stream",
     "text": [
      "<class 'pandas.core.frame.DataFrame'>\n",
      "Int64Index: 104989 entries, 0 to 104988\n",
      "Data columns (total 7 columns):\n",
      " #   Column         Non-Null Count   Dtype  \n",
      "---  ------         --------------   -----  \n",
      " 0   id             104989 non-null  int64  \n",
      " 1   gender         89241 non-null   float64\n",
      " 2   age            104989 non-null  int64  \n",
      " 3   education      104989 non-null  object \n",
      " 4   city           104989 non-null  int64  \n",
      " 5   country        104989 non-null  int64  \n",
      " 6   personal_coef  104989 non-null  float64\n",
      "dtypes: float64(2), int64(4), object(1)\n",
      "memory usage: 6.4+ MB\n"
     ]
    }
   ],
   "source": [
    "df_clients.info()"
   ]
  },
  {
   "cell_type": "code",
   "execution_count": 21,
   "id": "801f4d05",
   "metadata": {},
   "outputs": [
    {
     "data": {
      "text/plain": [
       "Text(0, 0.5, 'Кол-во')"
      ]
     },
     "execution_count": 21,
     "metadata": {},
     "output_type": "execute_result"
    },
    {
     "data": {
      "image/png": "[encoded data removed]",
      "text/plain": [
       "<Figure size 640x480 with 1 Axes>"
      ]
     },
     "metadata": {},
     "output_type": "display_data"
    }
   ],
   "source": [
    "# Визуализируем некоторые распределения\n",
    "\n",
    "sns.set()\n",
    "sns.histplot(df_clients['age'], bins=73, color='#C92228')\n",
    "plt.grid(linestyle = '--', linewidth = 0.5)\n",
    "plt.title('Распределение возраста клиентов')\n",
    "plt.xlabel('Возраст')\n",
    "plt.ylabel('Кол-во')"
   ]
  },
  {
   "cell_type": "code",
   "execution_count": 22,
   "id": "aeae1a13",
   "metadata": {},
   "outputs": [
    {
     "data": {
      "text/plain": [
       "Text(0, 0.5, 'Кол-во')"
      ]
     },
     "execution_count": 22,
     "metadata": {},
     "output_type": "execute_result"
    },
    {
     "data": {
      "image/png": "[encoded data removed]",
      "text/plain": [
       "<Figure size 640x480 with 1 Axes>"
      ]
     },
     "metadata": {},
     "output_type": "display_data"
    }
   ],
   "source": [
    "sns.countplot(x = df_clients['gender'],palette=['#C92228',\"#005AAB\"])\n",
    "plt.grid(linestyle = '--', linewidth = 0.5)\n",
    "plt.title('Распределение пола клиентов')\n",
    "plt.xlabel('Пол')\n",
    "plt.ylabel('Кол-во')"
   ]
  },
  {
   "cell_type": "code",
   "execution_count": 23,
   "id": "d4f0bc51",
   "metadata": {},
   "outputs": [
    {
     "data": {
      "text/plain": [
       "Text(0, 0.5, 'Кол-во')"
      ]
     },
     "execution_count": 23,
     "metadata": {},
     "output_type": "execute_result"
    },
    {
     "data": {
      "image/png": "[encoded data removed]",
      "text/plain": [
       "<Figure size 640x480 with 1 Axes>"
      ]
     },
     "metadata": {},
     "output_type": "display_data"
    }
   ],
   "source": [
    "sns.countplot(x = df_clients['education'],palette=['#C92228',\"#005AAB\"])\n",
    "plt.grid(linestyle = '--', linewidth = 0.5)\n",
    "plt.title('Распределение образования клиентов')\n",
    "plt.xlabel('Образование')\n",
    "plt.ylabel('Кол-во')"
   ]
  },
  {
   "cell_type": "code",
   "execution_count": 24,
   "id": "e4511653",
   "metadata": {},
   "outputs": [
    {
     "data": {
      "text/plain": [
       "0"
      ]
     },
     "execution_count": 24,
     "metadata": {},
     "output_type": "execute_result"
    }
   ],
   "source": [
    "df_clients.duplicated().sum()"
   ]
  },
  {
   "cell_type": "code",
   "execution_count": 25,
   "id": "5d4a55eb",
   "metadata": {},
   "outputs": [
    {
     "data": {
      "text/plain": [
       "gender           14.999667\n",
       "id                0.000000\n",
       "age               0.000000\n",
       "education         0.000000\n",
       "city              0.000000\n",
       "country           0.000000\n",
       "personal_coef     0.000000\n",
       "dtype: float64"
      ]
     },
     "execution_count": 25,
     "metadata": {},
     "output_type": "execute_result"
    }
   ],
   "source": [
    "# Проверяем пропущенные значения\n",
    "\n",
    "((df_clients.isna().sum() / len(df_clients)) * 100).sort_values(ascending=False)"
   ]
  },
  {
   "cell_type": "code",
   "execution_count": 26,
   "id": "6a730c62",
   "metadata": {},
   "outputs": [
    {
     "name": "stdout",
     "output_type": "stream",
     "text": [
      "id\n",
      "[     0      4      6 ... 167019 116355  15885] \n",
      "\n",
      "gender\n",
      "[ 0.  1. nan] \n",
      "\n",
      "age\n",
      "[36 35 52 37 48 39 44 40 49 53 33 19 20 17 50 55 21 34 38 29 62 41 31 43\n",
      " 16 32 18 30 23 25 42 24 63 45 56 58 22 47 27 51 28 26 54 57 11 46 65 13\n",
      " 66 64 60 71  5 14 59 61 15 73  9  8 69 68 72 70  7 67 12 10 75  6 74 76\n",
      " 77] \n",
      "\n",
      "education\n",
      "['среднее' 'высшее'] \n",
      "\n",
      "city\n",
      "[1201 1134 1188 1198 1190 1155  574 1178 1157 1203 1137 1204 1187 1181\n",
      " 1172 1162 1185 1177 1168 1207 1166 1191 1202 1179  913 1154  338   74\n",
      " 1205 1167 1159 1141 1142 1180 1150 1160 1199  609 1186 1151    3 1165\n",
      " 1196 1194 1175 1161 1195 1173   33 1192 1152   48  501 1183 1156 1163\n",
      " 1197 1200  218 1212    9 1176    1   73    0 1182   12 1153 1189   66\n",
      " 1164   10 1170 1148 1211 1147 1158  875 1206 1171 1033 1169 1208 1174\n",
      "    2   34 1133 1184   70   45  204 1135 1145 1092 1098 1093 1017  104\n",
      "   62  580 1139   11  917  226 1144 1193  804  292   61   59  726   76\n",
      "  307  536    7  123  515  261  588  174  269 1140  129   84  541  615\n",
      "  990 1143  550  535  138  907  178  151  509  628   65  802 1136 1213\n",
      "  192   75 1209  514 1063   58 1138  454 1146  423 1055  205   35 1036\n",
      "  114    6  911  793  805  135  715  276  481  492   78 1088  185  193\n",
      "  296  654   85   97 1031  219  526 1087  529   42  237   16  505  171\n",
      "  569   93  967   80  589  479  417  856 1210 1012 1094  806  328   36\n",
      "  388  489  931   83   87  731  252  149  412  283  133  326  195  186\n",
      "  961  230  247  735  584 1095  150  461  121  607  881   60  656   67\n",
      "  291  246   63  690   14  645   30  774 1084  646   88   71  130  142\n",
      "  763  740  418  154  753  612  206  532 1039  530  595  301  611  327\n",
      " 1082  803  111  255  553  900   13  164  899  177   40  200  238  447\n",
      "  644  249  466 1081  877  243  739  954 1037  678  196  122  306  668\n",
      "  703  471  773  648   69  975  597  125  254 1016  267  182  842  811\n",
      "  191  920   92  598  639  259  575  712  980  795  169 1038 1054  216\n",
      "  152  329  212  349  188  799   41  943 1032  738 1047  360   56  180\n",
      "  797  520  415 1051  720  885  468   72  742  187  201  592  442  959\n",
      "  962  743  495  179  352 1075  184  183  730  796  234  946  353  785\n",
      "  463  394   49  531  591  144  285  421  982  127  979  527  521  340\n",
      "  175  119 1149  680  841  732  166  444  581  647  721   94  951  165\n",
      " 1045  221  563  974  984  596  320  590  224  840  908  493  137  779\n",
      "  778 1066  782  449  540   68  711  116  198  977  800 1042  293  573\n",
      " 1111  250  258  789  630  624  170  419  783  156  253  251  472 1103\n",
      "  369  299  120  729 1046  485  381 1123  754 1034   15  371  997  915\n",
      "  475  666  695  496  812  724  503  302  545  436  429  820   26  432\n",
      "  207  972  751  519  684  297  162  604 1070 1083  942  719  268 1086\n",
      "   54  383  270  109  309  236  211  118  457 1106  816  623  605   47\n",
      "  846  134  855  934  233  808  801  181  691  497  861  973  469  748\n",
      "  576  878  102  768   25  405  634  263  334  439  448   91  614 1125\n",
      " 1128  667  814 1065  679  333  414   64 1099  549  488  374  225   39\n",
      "  482  544  139  838 1089  577  273  718  294  995  633  372  189   31\n",
      "  397  746  653  486  606   57  384  905  220  557  160  839  582  945\n",
      "  699   18  565  548  758 1114  339  971  103  458  891  603  586  765\n",
      "  940  602  851 1126  248  232  594  755  744  970  745  701  141  771\n",
      "  567  714  504  880  266  571   50  257   81  552  836  286  281  572\n",
      "  298  991  909  968  641    5 1076 1014  969  453  930  347   82  289\n",
      "  313  420  848  274  108  777  759  413 1019  916  622  190  698 1110\n",
      "  872  986  480 1078  168  985  330  578  245  998  288   98 1067  733\n",
      "  373   90  876  558  747  105  868  829  214  564  491 1059  976  613\n",
      "  522  231  396 1108  332  955 1028  490  999 1004  411  794  523  391\n",
      "  437  525  438  456  555    4  826  935  323 1119  295  534  981  117\n",
      "  770  734  687  652  173  879  464  756  197  366 1120  947 1010  993\n",
      " 1124  483   38  408  705  539  781  978  278 1062  124  857  890 1130\n",
      "  110  659  608  106  707  610  513  702  112  350  923  631  351  460\n",
      "  767  356  635  896   77  892  600  365  843  533  672  587  537  821\n",
      "  627  889  459 1049  859 1056  484 1029  290  140  825 1060   55  921\n",
      "  874  888  827 1015  517  722  749 1113  709  473 1101 1079  416  815\n",
      "  194  837  364 1048  625   22 1080  217  556] \n",
      "\n",
      "country\n",
      "[32 38 35  5 37 33 31  0 39 36 51  6 48 28  8  7 26  2 14 21 41 40  3  1\n",
      " 18 16 49 50 43 11 17 22 15] \n",
      "\n",
      "personal_coef\n",
      "[0.5072 0.4304 0.5584 0.4688 0.2672 0.3792 0.2896 0.3344 0.2768 0.3152\n",
      " 0.2576 0.3536 0.2336 0.2448 0.2384] \n",
      "\n"
     ]
    }
   ],
   "source": [
    "for column in df_clients.columns:\n",
    "    print(column)\n",
    "    print(df_clients[column].unique(), '\\n')"
   ]
  },
  {
   "cell_type": "code",
   "execution_count": 27,
   "id": "87cfead6",
   "metadata": {},
   "outputs": [],
   "source": [
    "# Преобразуем категориальный признак с помощью Label Encoder\n",
    "\n",
    "le = LabelEncoder()\n",
    "df_clients['education'] = le.fit_transform(df_clients['education'])"
   ]
  },
  {
   "cell_type": "code",
   "execution_count": 28,
   "id": "858b6ab9",
   "metadata": {},
   "outputs": [
    {
     "name": "stdout",
     "output_type": "stream",
     "text": [
      "df_train shape: (89241, 7)\n",
      "df_test shape: (15748, 7)\n"
     ]
    }
   ],
   "source": [
    "# Разделяем выборку на обучающую и тестовую, для последущего заполнения признака о поле клиента.\n",
    "\n",
    "df_train = df_clients[~df_clients['gender'].isna()].dropna()\n",
    "print('df_train shape:',df_train.shape)\n",
    "\n",
    "df_test = df_clients[df_clients['gender'].isna()]\n",
    "print('df_test shape:',df_test.shape)"
   ]
  },
  {
   "cell_type": "code",
   "execution_count": 29,
   "id": "083acde1",
   "metadata": {},
   "outputs": [],
   "source": [
    "# В тестовой выборке признак пол не заполнен\n",
    "\n",
    "x_train = df_train.drop(columns=['gender','id'])\n",
    "y_train = df_train['gender']\n",
    "\n",
    "x_test = df_test.drop(columns=['gender','id'])\n",
    "y_test = df_test['gender']"
   ]
  },
  {
   "cell_type": "code",
   "execution_count": 30,
   "id": "c85bed0e",
   "metadata": {},
   "outputs": [],
   "source": [
    "kf = StratifiedKFold(n_splits=3, shuffle=True, random_state=42)\n",
    "\n",
    "rfc = RandomForestClassifier()\n",
    "gbc = GradientBoostingClassifier()"
   ]
  },
  {
   "cell_type": "code",
   "execution_count": 31,
   "id": "d73074be",
   "metadata": {},
   "outputs": [
    {
     "name": "stdout",
     "output_type": "stream",
     "text": [
      "Best params:  {'n_estimators': 700, 'min_samples_split': 4, 'min_samples_leaf': 1, 'max_depth': 50}\n",
      "Best score:  0.9999315637679035\n"
     ]
    }
   ],
   "source": [
    "# Осуществляем подбор гиперпараметров модели\n",
    "\n",
    "params = {'n_estimators' : [300, 500, 700],\n",
    "          'max_depth': np.arange(10, 60, 4),\n",
    "          'min_samples_leaf': np.arange(1, 10, 1),\n",
    "          'min_samples_split': np.arange(2, 20, 2)}\n",
    "\n",
    "rs = RandomizedSearchCV(rfc, params, cv=kf, scoring='f1', n_jobs=-1, error_score='raise')\n",
    "rs.fit(x_train, y_train)\n",
    "\n",
    "print('Best params: ', rs.best_params_)\n",
    "print('Best score: ', rs.best_score_)"
   ]
  },
  {
   "cell_type": "code",
   "execution_count": 32,
   "id": "f468de43",
   "metadata": {},
   "outputs": [
    {
     "name": "stdout",
     "output_type": "stream",
     "text": [
      "Best params:  {'subsample': 0.8, 'n_estimators': 300, 'min_samples_split': 18, 'min_samples_leaf': 4, 'max_features': 'sqrt', 'max_depth': 58, 'loss': 'exponential', 'learning_rate': 1, 'criterion': 'friedman_mse'}\n",
      "Best score:  0.9999413357840817\n"
     ]
    }
   ],
   "source": [
    "params = {\"loss\":[\"log_loss\", \"exponential\"],\n",
    "          \"learning_rate\": [0.01,0.1,1,10,100],\n",
    "          'max_depth': np.arange(2, 60, 4),\n",
    "          'max_features': ['sqrt', 'log2', None],\n",
    "          'min_samples_leaf': np.arange(1, 10, 1),\n",
    "          'min_samples_split': np.arange(2, 20, 2),\n",
    "          \"max_features\":[\"log2\",\"sqrt\"],\n",
    "          \"criterion\": [\"friedman_mse\",  \"squared_error\"],\n",
    "          \"subsample\":np.arange(0.1, 1, 0.1),\n",
    "          \"n_estimators\":[100, 300, 500]}\n",
    "\n",
    "rs = RandomizedSearchCV(gbc, params, cv=kf, scoring='f1', n_jobs=-1, error_score='raise')\n",
    "rs.fit(x_train, y_train)\n",
    "\n",
    "print('Best params: ', rs.best_params_)\n",
    "print('Best score: ', rs.best_score_)"
   ]
  },
  {
   "cell_type": "code",
   "execution_count": 31,
   "id": "3b11e141",
   "metadata": {},
   "outputs": [
    {
     "name": "stderr",
     "output_type": "stream",
     "text": [
      "C:\\Users\\mayor\\AppData\\Local\\Temp\\ipykernel_13792\\1530565450.py:6: SettingWithCopyWarning: \n",
      "A value is trying to be set on a copy of a slice from a DataFrame.\n",
      "Try using .loc[row_indexer,col_indexer] = value instead\n",
      "\n",
      "See the caveats in the documentation: https://pandas.pydata.org/pandas-docs/stable/user_guide/indexing.html#returning-a-view-versus-a-copy\n",
      "  df_test['gender'] = model.predict(x_test)\n"
     ]
    }
   ],
   "source": [
    "# Обучаем модель с лучшей оценкой f1 и предсказываем пол клиента на тестовой выборке\n",
    "\n",
    "model = GradientBoostingClassifier(subsample=0.8, n_estimators=300, min_samples_split=18, min_samples_leaf=4, \n",
    "                                   max_features='sqrt', max_depth=58, loss= 'exponential', learning_rate=1,\n",
    "                                   criterion='friedman_mse').fit(x_train, y_train)\n",
    "df_test['gender'] = model.predict(x_test)"
   ]
  },
  {
   "cell_type": "code",
   "execution_count": 32,
   "id": "e1ae2dfe",
   "metadata": {},
   "outputs": [
    {
     "data": {
      "text/html": [
       "<div>\n",
       "<style scoped>\n",
       "    .dataframe tbody tr th:only-of-type {\n",
       "        vertical-align: middle;\n",
       "    }\n",
       "\n",
       "    .dataframe tbody tr th {\n",
       "        vertical-align: top;\n",
       "    }\n",
       "\n",
       "    .dataframe thead th {\n",
       "        text-align: right;\n",
       "    }\n",
       "</style>\n",
       "<table border=\"1\" class=\"dataframe\">\n",
       "  <thead>\n",
       "    <tr style=\"text-align: right;\">\n",
       "      <th></th>\n",
       "      <th>id</th>\n",
       "      <th>gender</th>\n",
       "      <th>age</th>\n",
       "      <th>education</th>\n",
       "      <th>city</th>\n",
       "      <th>country</th>\n",
       "      <th>personal_coef</th>\n",
       "    </tr>\n",
       "  </thead>\n",
       "  <tbody>\n",
       "    <tr>\n",
       "      <th>89241</th>\n",
       "      <td>101492</td>\n",
       "      <td>1.0</td>\n",
       "      <td>32</td>\n",
       "      <td>1</td>\n",
       "      <td>1188</td>\n",
       "      <td>32</td>\n",
       "      <td>0.4304</td>\n",
       "    </tr>\n",
       "    <tr>\n",
       "      <th>89242</th>\n",
       "      <td>42690</td>\n",
       "      <td>1.0</td>\n",
       "      <td>20</td>\n",
       "      <td>0</td>\n",
       "      <td>1134</td>\n",
       "      <td>32</td>\n",
       "      <td>0.4688</td>\n",
       "    </tr>\n",
       "    <tr>\n",
       "      <th>89243</th>\n",
       "      <td>113001</td>\n",
       "      <td>1.0</td>\n",
       "      <td>27</td>\n",
       "      <td>1</td>\n",
       "      <td>1187</td>\n",
       "      <td>32</td>\n",
       "      <td>0.4304</td>\n",
       "    </tr>\n",
       "    <tr>\n",
       "      <th>89244</th>\n",
       "      <td>163654</td>\n",
       "      <td>0.0</td>\n",
       "      <td>49</td>\n",
       "      <td>0</td>\n",
       "      <td>1160</td>\n",
       "      <td>32</td>\n",
       "      <td>0.5584</td>\n",
       "    </tr>\n",
       "    <tr>\n",
       "      <th>89245</th>\n",
       "      <td>69523</td>\n",
       "      <td>0.0</td>\n",
       "      <td>44</td>\n",
       "      <td>1</td>\n",
       "      <td>1137</td>\n",
       "      <td>32</td>\n",
       "      <td>0.5072</td>\n",
       "    </tr>\n",
       "  </tbody>\n",
       "</table>\n",
       "</div>"
      ],
      "text/plain": [
       "           id  gender  age  education  city  country  personal_coef\n",
       "89241  101492     1.0   32          1  1188       32         0.4304\n",
       "89242   42690     1.0   20          0  1134       32         0.4688\n",
       "89243  113001     1.0   27          1  1187       32         0.4304\n",
       "89244  163654     0.0   49          0  1160       32         0.5584\n",
       "89245   69523     0.0   44          1  1137       32         0.5072"
      ]
     },
     "execution_count": 32,
     "metadata": {},
     "output_type": "execute_result"
    }
   ],
   "source": [
    "df_test.head()"
   ]
  },
  {
   "cell_type": "code",
   "execution_count": 33,
   "id": "7b816ca2",
   "metadata": {},
   "outputs": [],
   "source": [
    "# Объединяем датафреймы\n",
    "\n",
    "df_clients = pd.concat([df_train, df_test])"
   ]
  },
  {
   "attachments": {},
   "cell_type": "markdown",
   "id": "46debf60",
   "metadata": {},
   "source": [
    "### Working with purchases"
   ]
  },
  {
   "cell_type": "code",
   "execution_count": 34,
   "id": "d75612dd",
   "metadata": {},
   "outputs": [
    {
     "data": {
      "text/html": [
       "<div>\n",
       "<style scoped>\n",
       "    .dataframe tbody tr th:only-of-type {\n",
       "        vertical-align: middle;\n",
       "    }\n",
       "\n",
       "    .dataframe tbody tr th {\n",
       "        vertical-align: top;\n",
       "    }\n",
       "\n",
       "    .dataframe thead th {\n",
       "        text-align: right;\n",
       "    }\n",
       "</style>\n",
       "<table border=\"1\" class=\"dataframe\">\n",
       "  <thead>\n",
       "    <tr style=\"text-align: right;\">\n",
       "      <th></th>\n",
       "      <th>id</th>\n",
       "      <th>cost</th>\n",
       "      <th>product_sex</th>\n",
       "      <th>base_sale</th>\n",
       "      <th>dt</th>\n",
       "    </tr>\n",
       "  </thead>\n",
       "  <tbody>\n",
       "    <tr>\n",
       "      <th>count</th>\n",
       "      <td>786260.000000</td>\n",
       "      <td>786260.000000</td>\n",
       "      <td>471548.000000</td>\n",
       "      <td>786260.000000</td>\n",
       "      <td>786260.000000</td>\n",
       "    </tr>\n",
       "    <tr>\n",
       "      <th>mean</th>\n",
       "      <td>89064.105357</td>\n",
       "      <td>5406.566271</td>\n",
       "      <td>0.575621</td>\n",
       "      <td>0.356883</td>\n",
       "      <td>25.129113</td>\n",
       "    </tr>\n",
       "    <tr>\n",
       "      <th>std</th>\n",
       "      <td>51386.509635</td>\n",
       "      <td>10394.947580</td>\n",
       "      <td>0.494249</td>\n",
       "      <td>0.479080</td>\n",
       "      <td>17.296781</td>\n",
       "    </tr>\n",
       "    <tr>\n",
       "      <th>min</th>\n",
       "      <td>0.000000</td>\n",
       "      <td>-30.000000</td>\n",
       "      <td>0.000000</td>\n",
       "      <td>0.000000</td>\n",
       "      <td>0.000000</td>\n",
       "    </tr>\n",
       "    <tr>\n",
       "      <th>25%</th>\n",
       "      <td>44435.500000</td>\n",
       "      <td>1499.000000</td>\n",
       "      <td>0.000000</td>\n",
       "      <td>0.000000</td>\n",
       "      <td>10.000000</td>\n",
       "    </tr>\n",
       "    <tr>\n",
       "      <th>50%</th>\n",
       "      <td>89387.500000</td>\n",
       "      <td>2999.000000</td>\n",
       "      <td>1.000000</td>\n",
       "      <td>0.000000</td>\n",
       "      <td>22.000000</td>\n",
       "    </tr>\n",
       "    <tr>\n",
       "      <th>75%</th>\n",
       "      <td>133427.000000</td>\n",
       "      <td>5599.000000</td>\n",
       "      <td>1.000000</td>\n",
       "      <td>1.000000</td>\n",
       "      <td>40.000000</td>\n",
       "    </tr>\n",
       "    <tr>\n",
       "      <th>max</th>\n",
       "      <td>178004.000000</td>\n",
       "      <td>446420.000000</td>\n",
       "      <td>1.000000</td>\n",
       "      <td>1.000000</td>\n",
       "      <td>58.000000</td>\n",
       "    </tr>\n",
       "  </tbody>\n",
       "</table>\n",
       "</div>"
      ],
      "text/plain": [
       "                  id           cost    product_sex      base_sale  \\\n",
       "count  786260.000000  786260.000000  471548.000000  786260.000000   \n",
       "mean    89064.105357    5406.566271       0.575621       0.356883   \n",
       "std     51386.509635   10394.947580       0.494249       0.479080   \n",
       "min         0.000000     -30.000000       0.000000       0.000000   \n",
       "25%     44435.500000    1499.000000       0.000000       0.000000   \n",
       "50%     89387.500000    2999.000000       1.000000       0.000000   \n",
       "75%    133427.000000    5599.000000       1.000000       1.000000   \n",
       "max    178004.000000  446420.000000       1.000000       1.000000   \n",
       "\n",
       "                  dt  \n",
       "count  786260.000000  \n",
       "mean       25.129113  \n",
       "std        17.296781  \n",
       "min         0.000000  \n",
       "25%        10.000000  \n",
       "50%        22.000000  \n",
       "75%        40.000000  \n",
       "max        58.000000  "
      ]
     },
     "execution_count": 34,
     "metadata": {},
     "output_type": "execute_result"
    }
   ],
   "source": [
    "df_purch.describe()"
   ]
  },
  {
   "cell_type": "code",
   "execution_count": 35,
   "id": "53faf160",
   "metadata": {},
   "outputs": [
    {
     "name": "stdout",
     "output_type": "stream",
     "text": [
      "<class 'pandas.core.frame.DataFrame'>\n",
      "RangeIndex: 786260 entries, 0 to 786259\n",
      "Data columns (total 7 columns):\n",
      " #   Column       Non-Null Count   Dtype  \n",
      "---  ------       --------------   -----  \n",
      " 0   id           786260 non-null  int64  \n",
      " 1   product      786260 non-null  object \n",
      " 2   colour       666736 non-null  object \n",
      " 3   cost         786260 non-null  int64  \n",
      " 4   product_sex  471548 non-null  float64\n",
      " 5   base_sale    786260 non-null  int64  \n",
      " 6   dt           786260 non-null  int64  \n",
      "dtypes: float64(1), int64(4), object(2)\n",
      "memory usage: 42.0+ MB\n"
     ]
    }
   ],
   "source": [
    "df_purch.info()"
   ]
  },
  {
   "cell_type": "code",
   "execution_count": 36,
   "id": "5f0e6c60",
   "metadata": {},
   "outputs": [],
   "source": [
    "def get_outliers(data):\n",
    "    q25 = data.quantile(0.25)\n",
    "    q75 = data.quantile(0.75)\n",
    "    iqr = q75 - q25\n",
    "    boundaries = (q25 - 1.5 * iqr, q75 + 1.5 * iqr)\n",
    "    return boundaries"
   ]
  },
  {
   "cell_type": "code",
   "execution_count": 37,
   "id": "f0b11f08",
   "metadata": {},
   "outputs": [
    {
     "data": {
      "text/plain": [
       "(-4651.0, 11749.0)"
      ]
     },
     "execution_count": 37,
     "metadata": {},
     "output_type": "execute_result"
    }
   ],
   "source": [
    "get_outliers(df_purch['cost'])"
   ]
  },
  {
   "cell_type": "code",
   "execution_count": 38,
   "id": "b7189830",
   "metadata": {},
   "outputs": [
    {
     "data": {
      "text/plain": [
       "Text(0, 0.5, 'Кол-во')"
      ]
     },
     "execution_count": 38,
     "metadata": {},
     "output_type": "execute_result"
    },
    {
     "data": {
      "image/png": "[encoded data removed]",
      "text/plain": [
       "<Figure size 640x480 with 1 Axes>"
      ]
     },
     "metadata": {},
     "output_type": "display_data"
    }
   ],
   "source": [
    "plt.xlim(0,11749.0)\n",
    "sns.histplot(df_purch['cost'], bins=800, color='#C92228')\n",
    "plt.grid(linestyle = '--', linewidth = 0.5)\n",
    "plt.title('Распределение стоимости покупок клиентов')\n",
    "plt.xlabel('Стоимость')\n",
    "plt.ylabel('Кол-во')"
   ]
  },
  {
   "cell_type": "code",
   "execution_count": 39,
   "id": "d03c5ec8",
   "metadata": {},
   "outputs": [
    {
     "data": {
      "text/plain": [
       "Text(0, 0.5, 'Кол-во')"
      ]
     },
     "execution_count": 39,
     "metadata": {},
     "output_type": "execute_result"
    },
    {
     "data": {
      "image/png": "[encoded data removed]",
      "text/plain": [
       "<Figure size 640x480 with 1 Axes>"
      ]
     },
     "metadata": {},
     "output_type": "display_data"
    }
   ],
   "source": [
    "sns.countplot(x = df_purch['product_sex'],palette=['#C92228',\"#005AAB\"])\n",
    "plt.grid(linestyle = '--', linewidth = 0.5)\n",
    "plt.title('Распределение купленных продуктов по полу')\n",
    "plt.xlabel('Пол')\n",
    "plt.ylabel('Кол-во')"
   ]
  },
  {
   "cell_type": "code",
   "execution_count": 40,
   "id": "1e07d82c",
   "metadata": {},
   "outputs": [
    {
     "data": {
      "text/plain": [
       "0"
      ]
     },
     "execution_count": 40,
     "metadata": {},
     "output_type": "execute_result"
    }
   ],
   "source": [
    "df_purch.duplicated().sum()"
   ]
  },
  {
   "cell_type": "code",
   "execution_count": 41,
   "id": "a60b3b71",
   "metadata": {},
   "outputs": [
    {
     "data": {
      "text/plain": [
       "product_sex    40.026454\n",
       "colour         15.201587\n",
       "id              0.000000\n",
       "product         0.000000\n",
       "cost            0.000000\n",
       "base_sale       0.000000\n",
       "dt              0.000000\n",
       "dtype: float64"
      ]
     },
     "execution_count": 41,
     "metadata": {},
     "output_type": "execute_result"
    }
   ],
   "source": [
    "((df_purch.isna().sum() / len(df_purch)) * 100).sort_values(ascending=False)"
   ]
  },
  {
   "cell_type": "code",
   "execution_count": 42,
   "id": "bbf9677f",
   "metadata": {},
   "outputs": [
    {
     "name": "stdout",
     "output_type": "stream",
     "text": [
      "id\n",
      "[     0      3      4 ... 178001 178002 178004] \n",
      "\n",
      "product\n",
      "['Велосипед горный женский Stern Mira 2.0 26\"' 'Стол Outventure'\n",
      " 'Набор Outventure: стол + 4 стула' ...\n",
      " 'Клюшка детская Bauer Vapor 3X, Flex 55, P92'\n",
      " 'Футболка мужская Reebok United By Fitness'\n",
      " 'Бутсы мужские adidas Predator 19.3 TF'] \n",
      "\n",
      "colour\n",
      "['белый/синий' 'зелёный' 'бежевый' ... 'бордовый/прозрачный/голубой'\n",
      " 'синий/голубой/золотой/желтый' 'черный/циан'] \n",
      "\n",
      "cost\n",
      "[ 13599   1499   4799 ...   5700  49899 174999] \n",
      "\n",
      "product_sex\n",
      "[ 0. nan  1.] \n",
      "\n",
      "base_sale\n",
      "[1 0] \n",
      "\n",
      "dt\n",
      "[ 7 37 13 27 34  0  1  2 32  3  8 11 17 18 29 30  6 14 33 35 36 42 49 25\n",
      " 39 55 56  4 26 28 45 51  5 15 50 52 12 16 19 21 22 23 31  9 58 41 44 57\n",
      " 47 10 54 43 38 46 53 24 40 20 48] \n",
      "\n"
     ]
    }
   ],
   "source": [
    "# Проверяем уникальные значения признаков в датафрейме\n",
    "\n",
    "for column in df_purch.columns:\n",
    "    print(column)\n",
    "    print(df_purch[column].unique(), '\\n')"
   ]
  },
  {
   "cell_type": "code",
   "execution_count": 43,
   "id": "e159c238",
   "metadata": {},
   "outputs": [
    {
     "data": {
      "text/plain": [
       "1                                           Стол Outventure\n",
       "2                          Набор Outventure: стол + 4 стула\n",
       "4         Мяч футбольный PUMA TEAMFINAL 21.2 FIFA QUALIT...\n",
       "7                Роликовые коньки детские Roces Orlando III\n",
       "8                                         Шлем FILA NRK FUN\n",
       "                                ...                        \n",
       "786236            Велосипед городской Stern Urban 28\", 2022\n",
       "786237              Палатка 3-местная Outventure Cadaques 3\n",
       "786245                    Мини-степпер Torneo Massage S-231\n",
       "786251        Бейсболка New Era 9Forty MLB New York Yankees\n",
       "786258                                                Пакет\n",
       "Name: product, Length: 314712, dtype: object"
      ]
     },
     "execution_count": 43,
     "metadata": {},
     "output_type": "execute_result"
    }
   ],
   "source": [
    "# Проверяем товары где не заполнен признак product_sex\n",
    "\n",
    "df_purch['product'][df_purch['product_sex'].isnull()]"
   ]
  },
  {
   "cell_type": "code",
   "execution_count": 44,
   "id": "bacdb88f",
   "metadata": {},
   "outputs": [],
   "source": [
    "# Заполняем признак product_sex исходя из описания товаров\n",
    "\n",
    "df_purch['product_sex'] = df_purch['product_sex'].fillna('3.0')"
   ]
  },
  {
   "cell_type": "code",
   "execution_count": 45,
   "id": "cb2df489",
   "metadata": {},
   "outputs": [],
   "source": [
    "# Заполняем пропущенное значение признака цвет товара значением 'другой'\n",
    "\n",
    "df_purch['colour'] = df_purch['colour'].fillna('другой')"
   ]
  },
  {
   "cell_type": "code",
   "execution_count": 46,
   "id": "95e19572",
   "metadata": {},
   "outputs": [
    {
     "data": {
      "text/html": [
       "<div>\n",
       "<style scoped>\n",
       "    .dataframe tbody tr th:only-of-type {\n",
       "        vertical-align: middle;\n",
       "    }\n",
       "\n",
       "    .dataframe tbody tr th {\n",
       "        vertical-align: top;\n",
       "    }\n",
       "\n",
       "    .dataframe thead th {\n",
       "        text-align: right;\n",
       "    }\n",
       "</style>\n",
       "<table border=\"1\" class=\"dataframe\">\n",
       "  <thead>\n",
       "    <tr style=\"text-align: right;\">\n",
       "      <th></th>\n",
       "      <th>id</th>\n",
       "      <th>product</th>\n",
       "      <th>colour</th>\n",
       "      <th>cost</th>\n",
       "      <th>product_sex</th>\n",
       "      <th>base_sale</th>\n",
       "      <th>dt</th>\n",
       "    </tr>\n",
       "  </thead>\n",
       "  <tbody>\n",
       "    <tr>\n",
       "      <th>0</th>\n",
       "      <td>0</td>\n",
       "      <td>Велосипед горный женский Stern Mira 2.0 26\"</td>\n",
       "      <td>белый/синий</td>\n",
       "      <td>13599</td>\n",
       "      <td>0.0</td>\n",
       "      <td>1</td>\n",
       "      <td>7</td>\n",
       "    </tr>\n",
       "    <tr>\n",
       "      <th>1</th>\n",
       "      <td>0</td>\n",
       "      <td>Стол Outventure</td>\n",
       "      <td>зелёный</td>\n",
       "      <td>1499</td>\n",
       "      <td>3.0</td>\n",
       "      <td>0</td>\n",
       "      <td>37</td>\n",
       "    </tr>\n",
       "    <tr>\n",
       "      <th>2</th>\n",
       "      <td>0</td>\n",
       "      <td>Набор Outventure: стол + 4 стула</td>\n",
       "      <td>бежевый</td>\n",
       "      <td>4799</td>\n",
       "      <td>3.0</td>\n",
       "      <td>0</td>\n",
       "      <td>37</td>\n",
       "    </tr>\n",
       "    <tr>\n",
       "      <th>3</th>\n",
       "      <td>3</td>\n",
       "      <td>Бутсы мужские GSD Astro</td>\n",
       "      <td>белый</td>\n",
       "      <td>1599</td>\n",
       "      <td>1.0</td>\n",
       "      <td>0</td>\n",
       "      <td>13</td>\n",
       "    </tr>\n",
       "    <tr>\n",
       "      <th>4</th>\n",
       "      <td>3</td>\n",
       "      <td>Мяч футбольный PUMA TEAMFINAL 21.2 FIFA QUALIT...</td>\n",
       "      <td>мультицвет</td>\n",
       "      <td>7199</td>\n",
       "      <td>3.0</td>\n",
       "      <td>0</td>\n",
       "      <td>27</td>\n",
       "    </tr>\n",
       "  </tbody>\n",
       "</table>\n",
       "</div>"
      ],
      "text/plain": [
       "   id                                            product       colour   cost  \\\n",
       "0   0        Велосипед горный женский Stern Mira 2.0 26\"  белый/синий  13599   \n",
       "1   0                                    Стол Outventure      зелёный   1499   \n",
       "2   0                   Набор Outventure: стол + 4 стула      бежевый   4799   \n",
       "3   3                            Бутсы мужские GSD Astro        белый   1599   \n",
       "4   3  Мяч футбольный PUMA TEAMFINAL 21.2 FIFA QUALIT...   мультицвет   7199   \n",
       "\n",
       "  product_sex  base_sale  dt  \n",
       "0         0.0          1   7  \n",
       "1         3.0          0  37  \n",
       "2         3.0          0  37  \n",
       "3         1.0          0  13  \n",
       "4         3.0          0  27  "
      ]
     },
     "execution_count": 46,
     "metadata": {},
     "output_type": "execute_result"
    }
   ],
   "source": [
    "df_purch.head()"
   ]
  },
  {
   "cell_type": "code",
   "execution_count": 47,
   "id": "16b0d4b3",
   "metadata": {},
   "outputs": [
    {
     "name": "stdout",
     "output_type": "stream",
     "text": [
      "id\n",
      "20770     569\n",
      "16910     522\n",
      "20570     420\n",
      "35091     330\n",
      "131874    326\n",
      "         ... \n",
      "165413      1\n",
      "12748       1\n",
      "165409      1\n",
      "56134       1\n",
      "89967       1\n",
      "Name: id, Length: 104989, dtype: int64 \n",
      "\n",
      "product\n",
      "Брюки мужские Demix                                                                                                                    4961\n",
      "Шорты мужские Demix                                                                                                                    4650\n",
      "Футболка мужская Demix                                                                                                                 3644\n",
      "Лиф женский Joss                                                                                                                       3378\n",
      "Футболка женская Demix                                                                                                                 3252\n",
      "                                                                                                                                       ... \n",
      "Полуботинки для девочек Salomon SENSE CSWP K                                                                                              1\n",
      "Аминокислота Л-аргинин, VPLAB AAKG, спортивное питание, предтренировочный препарат, рост мышечной массы и выносливость, 90 таблеток       1\n",
      "Набор Burton: гребенка косые зубцы, слайдер                                                                                               1\n",
      "Палки для беговых лыж детские Salomon Escape ALU                                                                                          1\n",
      "Бутсы мужские adidas Predator 19.3 TF                                                                                                     1\n",
      "Name: product, Length: 23145, dtype: int64 \n",
      "\n",
      "colour\n",
      "черный                          131399\n",
      "другой                          119524\n",
      "белый                            42520\n",
      "чёрный                           37022\n",
      "синий                            35268\n",
      "                                 ...  \n",
      "черный/красный/лаймовый              1\n",
      "желтый/белый/черный                  1\n",
      "черный/серый/зеленый/голубой         1\n",
      "белый/золотой/красный                1\n",
      "черный/циан                          1\n",
      "Name: colour, Length: 1694, dtype: int64 \n",
      "\n",
      "cost\n",
      "1999      25325\n",
      "2999      24683\n",
      "999       23033\n",
      "3999      20241\n",
      "3499      16270\n",
      "          ...  \n",
      "4135          1\n",
      "626           1\n",
      "5650          1\n",
      "4105          1\n",
      "174999        1\n",
      "Name: cost, Length: 2402, dtype: int64 \n",
      "\n",
      "product_sex\n",
      "3.0    314712\n",
      "1.0    271433\n",
      "0.0    200115\n",
      "Name: product_sex, dtype: int64 \n",
      "\n",
      "base_sale\n",
      "0    505657\n",
      "1    280603\n",
      "Name: base_sale, dtype: int64 \n",
      "\n",
      "dt\n",
      "14    25630\n",
      "15    22957\n",
      "10    21650\n",
      "7     20072\n",
      "0     19979\n",
      "16    18882\n",
      "13    18828\n",
      "4     18806\n",
      "9     18677\n",
      "1     18619\n",
      "11    18611\n",
      "3     18601\n",
      "8     18017\n",
      "2     17962\n",
      "12    15818\n",
      "6     15734\n",
      "21    15267\n",
      "5     14389\n",
      "17    14077\n",
      "23    13779\n",
      "18    13414\n",
      "42    13137\n",
      "30    13103\n",
      "24    12738\n",
      "22    12365\n",
      "25    12305\n",
      "49    12299\n",
      "35    12211\n",
      "44    12148\n",
      "29    12007\n",
      "37    11986\n",
      "45    11984\n",
      "50    11793\n",
      "51    11784\n",
      "57    11644\n",
      "56    11586\n",
      "58    11514\n",
      "43    11511\n",
      "52    11118\n",
      "31    11045\n",
      "20    11001\n",
      "38    10929\n",
      "46    10925\n",
      "32    10784\n",
      "36    10620\n",
      "28    10335\n",
      "53    10310\n",
      "39    10109\n",
      "19     9978\n",
      "48     9237\n",
      "55     8807\n",
      "47     8765\n",
      "26     8658\n",
      "27     8555\n",
      "41     8521\n",
      "34     8369\n",
      "54     7819\n",
      "33     7816\n",
      "40     6675\n",
      "Name: dt, dtype: int64 \n",
      "\n"
     ]
    }
   ],
   "source": [
    "# Проверяем частоту значений в признаках\n",
    "\n",
    "for column in df_purch.columns:\n",
    "    print(column)\n",
    "    print(df_purch[column].value_counts(), '\\n')"
   ]
  },
  {
   "cell_type": "code",
   "execution_count": 48,
   "id": "a537a608",
   "metadata": {},
   "outputs": [],
   "source": [
    "# Объединяем дублирующиеся значения цвета\n",
    "\n",
    "df_purch['colour'] = df_purch['colour'].replace(['чёрный'], 'черный')"
   ]
  },
  {
   "attachments": {},
   "cell_type": "markdown",
   "id": "f0c78c0e",
   "metadata": {},
   "source": [
    "## A/B test evaluation"
   ]
  },
  {
   "cell_type": "code",
   "execution_count": 49,
   "id": "76f6627c",
   "metadata": {},
   "outputs": [],
   "source": [
    "# Загружаем файлы которые содержат id клиентов участвовавших в A/B тесте\n",
    "\n",
    "with open('data/ids_first_company_positive.txt') as f:\n",
    "    positive = f.read()"
   ]
  },
  {
   "cell_type": "code",
   "execution_count": 50,
   "id": "d6a68b73",
   "metadata": {},
   "outputs": [],
   "source": [
    "elem_list = re.split(';|,| ', positive)"
   ]
  },
  {
   "cell_type": "code",
   "execution_count": 51,
   "id": "6ee63ca0",
   "metadata": {},
   "outputs": [],
   "source": [
    "positive_id = []\n",
    "\n",
    "for i in elem_list:\n",
    "    if i.isdigit():\n",
    "        positive_id.append(int(i))\n",
    "        "
   ]
  },
  {
   "cell_type": "code",
   "execution_count": 52,
   "id": "e2a321bd",
   "metadata": {},
   "outputs": [
    {
     "data": {
      "text/plain": [
       "4964"
      ]
     },
     "execution_count": 52,
     "metadata": {},
     "output_type": "execute_result"
    }
   ],
   "source": [
    "len(positive_id)"
   ]
  },
  {
   "cell_type": "code",
   "execution_count": 53,
   "id": "a306cea9",
   "metadata": {},
   "outputs": [],
   "source": [
    "with open('data/ids_first_company_negative.txt') as f:\n",
    "    negative = f.read()"
   ]
  },
  {
   "cell_type": "code",
   "execution_count": 54,
   "id": "ef7c8f95",
   "metadata": {},
   "outputs": [],
   "source": [
    "elem_list = re.split(';|,| ', negative)"
   ]
  },
  {
   "cell_type": "code",
   "execution_count": 55,
   "id": "25cece31",
   "metadata": {},
   "outputs": [],
   "source": [
    "negative_id = []\n",
    "\n",
    "for i in elem_list:\n",
    "    if i.isdigit():\n",
    "        negative_id.append(int(i))"
   ]
  },
  {
   "cell_type": "code",
   "execution_count": 56,
   "id": "c9087830",
   "metadata": {},
   "outputs": [
    {
     "data": {
      "text/plain": [
       "4961"
      ]
     },
     "execution_count": 56,
     "metadata": {},
     "output_type": "execute_result"
    }
   ],
   "source": [
    "len(negative_id)\n"
   ]
  },
  {
   "cell_type": "code",
   "execution_count": 57,
   "id": "34680918",
   "metadata": {},
   "outputs": [
    {
     "data": {
      "text/html": [
       "<div>\n",
       "<style scoped>\n",
       "    .dataframe tbody tr th:only-of-type {\n",
       "        vertical-align: middle;\n",
       "    }\n",
       "\n",
       "    .dataframe tbody tr th {\n",
       "        vertical-align: top;\n",
       "    }\n",
       "\n",
       "    .dataframe thead th {\n",
       "        text-align: right;\n",
       "    }\n",
       "</style>\n",
       "<table border=\"1\" class=\"dataframe\">\n",
       "  <thead>\n",
       "    <tr style=\"text-align: right;\">\n",
       "      <th></th>\n",
       "      <th>id</th>\n",
       "      <th>product</th>\n",
       "      <th>colour</th>\n",
       "      <th>cost</th>\n",
       "      <th>product_sex</th>\n",
       "      <th>base_sale</th>\n",
       "      <th>dt</th>\n",
       "    </tr>\n",
       "  </thead>\n",
       "  <tbody>\n",
       "    <tr>\n",
       "      <th>0</th>\n",
       "      <td>0</td>\n",
       "      <td>Велосипед горный женский Stern Mira 2.0 26\"</td>\n",
       "      <td>белый/синий</td>\n",
       "      <td>13599</td>\n",
       "      <td>0.0</td>\n",
       "      <td>1</td>\n",
       "      <td>7</td>\n",
       "    </tr>\n",
       "    <tr>\n",
       "      <th>1</th>\n",
       "      <td>0</td>\n",
       "      <td>Стол Outventure</td>\n",
       "      <td>зелёный</td>\n",
       "      <td>1499</td>\n",
       "      <td>3.0</td>\n",
       "      <td>0</td>\n",
       "      <td>37</td>\n",
       "    </tr>\n",
       "    <tr>\n",
       "      <th>2</th>\n",
       "      <td>0</td>\n",
       "      <td>Набор Outventure: стол + 4 стула</td>\n",
       "      <td>бежевый</td>\n",
       "      <td>4799</td>\n",
       "      <td>3.0</td>\n",
       "      <td>0</td>\n",
       "      <td>37</td>\n",
       "    </tr>\n",
       "    <tr>\n",
       "      <th>3</th>\n",
       "      <td>3</td>\n",
       "      <td>Бутсы мужские GSD Astro</td>\n",
       "      <td>белый</td>\n",
       "      <td>1599</td>\n",
       "      <td>1.0</td>\n",
       "      <td>0</td>\n",
       "      <td>13</td>\n",
       "    </tr>\n",
       "    <tr>\n",
       "      <th>4</th>\n",
       "      <td>3</td>\n",
       "      <td>Мяч футбольный PUMA TEAMFINAL 21.2 FIFA QUALIT...</td>\n",
       "      <td>мультицвет</td>\n",
       "      <td>7199</td>\n",
       "      <td>3.0</td>\n",
       "      <td>0</td>\n",
       "      <td>27</td>\n",
       "    </tr>\n",
       "  </tbody>\n",
       "</table>\n",
       "</div>"
      ],
      "text/plain": [
       "   id                                            product       colour   cost  \\\n",
       "0   0        Велосипед горный женский Stern Mira 2.0 26\"  белый/синий  13599   \n",
       "1   0                                    Стол Outventure      зелёный   1499   \n",
       "2   0                   Набор Outventure: стол + 4 стула      бежевый   4799   \n",
       "3   3                            Бутсы мужские GSD Astro        белый   1599   \n",
       "4   3  Мяч футбольный PUMA TEAMFINAL 21.2 FIFA QUALIT...   мультицвет   7199   \n",
       "\n",
       "  product_sex  base_sale  dt  \n",
       "0         0.0          1   7  \n",
       "1         3.0          0  37  \n",
       "2         3.0          0  37  \n",
       "3         1.0          0  13  \n",
       "4         3.0          0  27  "
      ]
     },
     "execution_count": 57,
     "metadata": {},
     "output_type": "execute_result"
    }
   ],
   "source": [
    "df_purch.head()"
   ]
  },
  {
   "cell_type": "code",
   "execution_count": 170,
   "id": "7a5fe2c1",
   "metadata": {},
   "outputs": [],
   "source": [
    "# Выбираем покупки которые были совершены во время проведения первой рекламной компании\n",
    "\n",
    "df_test = df_purch[(df_purch['dt'] >= 5) & (df_purch['dt'] < 17)]"
   ]
  },
  {
   "cell_type": "code",
   "execution_count": 171,
   "id": "80758102",
   "metadata": {},
   "outputs": [],
   "source": [
    "# Группируем по id клиента, чтобы получить выручку на одного клиента\n",
    "\n",
    "arpu_group = df_test.groupby('id', as_index=False).agg({'cost':'sum'})"
   ]
  },
  {
   "cell_type": "code",
   "execution_count": 172,
   "id": "fb26380a",
   "metadata": {},
   "outputs": [
    {
     "data": {
      "text/html": [
       "<div>\n",
       "<style scoped>\n",
       "    .dataframe tbody tr th:only-of-type {\n",
       "        vertical-align: middle;\n",
       "    }\n",
       "\n",
       "    .dataframe tbody tr th {\n",
       "        vertical-align: top;\n",
       "    }\n",
       "\n",
       "    .dataframe thead th {\n",
       "        text-align: right;\n",
       "    }\n",
       "</style>\n",
       "<table border=\"1\" class=\"dataframe\">\n",
       "  <thead>\n",
       "    <tr style=\"text-align: right;\">\n",
       "      <th></th>\n",
       "      <th>id</th>\n",
       "      <th>cost</th>\n",
       "    </tr>\n",
       "  </thead>\n",
       "  <tbody>\n",
       "    <tr>\n",
       "      <th>0</th>\n",
       "      <td>0</td>\n",
       "      <td>13599</td>\n",
       "    </tr>\n",
       "    <tr>\n",
       "      <th>1</th>\n",
       "      <td>3</td>\n",
       "      <td>1599</td>\n",
       "    </tr>\n",
       "    <tr>\n",
       "      <th>2</th>\n",
       "      <td>6</td>\n",
       "      <td>17215</td>\n",
       "    </tr>\n",
       "    <tr>\n",
       "      <th>3</th>\n",
       "      <td>7</td>\n",
       "      <td>14497</td>\n",
       "    </tr>\n",
       "    <tr>\n",
       "      <th>4</th>\n",
       "      <td>9</td>\n",
       "      <td>40198</td>\n",
       "    </tr>\n",
       "    <tr>\n",
       "      <th>...</th>\n",
       "      <td>...</td>\n",
       "      <td>...</td>\n",
       "    </tr>\n",
       "    <tr>\n",
       "      <th>77141</th>\n",
       "      <td>177996</td>\n",
       "      <td>5599</td>\n",
       "    </tr>\n",
       "    <tr>\n",
       "      <th>77142</th>\n",
       "      <td>177997</td>\n",
       "      <td>15397</td>\n",
       "    </tr>\n",
       "    <tr>\n",
       "      <th>77143</th>\n",
       "      <td>177998</td>\n",
       "      <td>17794</td>\n",
       "    </tr>\n",
       "    <tr>\n",
       "      <th>77144</th>\n",
       "      <td>178001</td>\n",
       "      <td>35393</td>\n",
       "    </tr>\n",
       "    <tr>\n",
       "      <th>77145</th>\n",
       "      <td>178004</td>\n",
       "      <td>60995</td>\n",
       "    </tr>\n",
       "  </tbody>\n",
       "</table>\n",
       "<p>77146 rows × 2 columns</p>\n",
       "</div>"
      ],
      "text/plain": [
       "           id   cost\n",
       "0           0  13599\n",
       "1           3   1599\n",
       "2           6  17215\n",
       "3           7  14497\n",
       "4           9  40198\n",
       "...       ...    ...\n",
       "77141  177996   5599\n",
       "77142  177997  15397\n",
       "77143  177998  17794\n",
       "77144  178001  35393\n",
       "77145  178004  60995\n",
       "\n",
       "[77146 rows x 2 columns]"
      ]
     },
     "execution_count": 172,
     "metadata": {},
     "output_type": "execute_result"
    }
   ],
   "source": [
    "arpu_group"
   ]
  },
  {
   "cell_type": "code",
   "execution_count": 173,
   "id": "3b06142f",
   "metadata": {},
   "outputs": [],
   "source": [
    "# Создаем датафрейм с клиентами которые получили скидку во время рекламной компании\n",
    "\n",
    "positive_arpu = arpu_group.loc[arpu_group['id'].isin(positive_id), :]"
   ]
  },
  {
   "cell_type": "code",
   "execution_count": 174,
   "id": "57f5b4f0",
   "metadata": {},
   "outputs": [
    {
     "data": {
      "text/plain": [
       "4757"
      ]
     },
     "execution_count": 174,
     "metadata": {},
     "output_type": "execute_result"
    }
   ],
   "source": [
    "len(positive_arpu)"
   ]
  },
  {
   "cell_type": "code",
   "execution_count": 175,
   "id": "a8a00605",
   "metadata": {},
   "outputs": [],
   "source": [
    "# Создаем датафрейм с клиентами которые не получили скидку\n",
    "\n",
    "negative_arpu = arpu_group.loc[arpu_group['id'].isin(negative_id), :]"
   ]
  },
  {
   "cell_type": "code",
   "execution_count": 176,
   "id": "7f326581",
   "metadata": {},
   "outputs": [
    {
     "data": {
      "text/plain": [
       "4961"
      ]
     },
     "execution_count": 176,
     "metadata": {},
     "output_type": "execute_result"
    }
   ],
   "source": [
    "len(negative_arpu)"
   ]
  },
  {
   "cell_type": "code",
   "execution_count": 177,
   "id": "e416d951",
   "metadata": {},
   "outputs": [
    {
     "name": "stdout",
     "output_type": "stream",
     "text": [
      "Power_divergenceResult(statistic=4.282362626054744, pvalue=0.03850978384597314)\n",
      "SRM отсутсвует\n"
     ]
    }
   ],
   "source": [
    "# Подсчет SRM\n",
    "\n",
    "test = len(positive_arpu)\n",
    "control = len(negative_arpu)\n",
    "overall = test + control\n",
    "\n",
    "observed = [test, control]\n",
    "expected = [overall / 2, overall / 2]\n",
    "\n",
    "chi = stats.chisquare(observed, f_exp=expected)\n",
    "print(chi)\n",
    "\n",
    "if chi[1] < 0.01:\n",
    "    print('SRM присутствует')\n",
    "else:\n",
    "    print('SRM отсутсвует')"
   ]
  },
  {
   "attachments": {},
   "cell_type": "markdown",
   "id": "3eee102d",
   "metadata": {},
   "source": [
    "**Основная гипотеза**: нет статистически значимой разницы между средней выручкой на одного пользователя в тестовой и контрольной группах. \n",
    "\n",
    "**Альтернативная гипотеза**: есть статистически значимая разница между средней выручкой на одного пользователя в тестовой и контрольной группах."
   ]
  },
  {
   "cell_type": "code",
   "execution_count": 178,
   "id": "c807bbf5",
   "metadata": {},
   "outputs": [
    {
     "name": "stdout",
     "output_type": "stream",
     "text": [
      "ShapiroResult(statistic=0.5344901084899902, pvalue=0.0)\n",
      "ShapiroResult(statistic=0.47260046005249023, pvalue=0.0)\n"
     ]
    }
   ],
   "source": [
    "# Проверка нормальности распределения \n",
    "\n",
    "print(stats.shapiro(positive_arpu['cost']))\n",
    "print(stats.shapiro(negative_arpu['cost']))"
   ]
  },
  {
   "cell_type": "code",
   "execution_count": 179,
   "id": "cfba726d",
   "metadata": {},
   "outputs": [
    {
     "name": "stdout",
     "output_type": "stream",
     "text": [
      "MannwhitneyuResult(statistic=13632883.5, pvalue=3.977397095679975e-40)\n",
      "Есть статистически значимая разница\n"
     ]
    }
   ],
   "source": [
    "# Т.к. распределение не является нормальным, а выборки независимы, используем критерий Манна-Уитни для проверки гипотезы о среднем\n",
    "\n",
    "mann = stats.mannwhitneyu(positive_arpu['cost'], negative_arpu['cost'])\n",
    "print(mann)\n",
    "\n",
    "if mann[1] < 0.05:\n",
    "    print('Есть статистически значимая разница')\n",
    "else:\n",
    "    print('Статистически значимой разницы нет')"
   ]
  },
  {
   "cell_type": "code",
   "execution_count": 180,
   "id": "ba2840e3",
   "metadata": {},
   "outputs": [
    {
     "name": "stdout",
     "output_type": "stream",
     "text": [
      "(-31399.0, 70993.0)\n",
      "(-24670.0, 53914.0)\n"
     ]
    }
   ],
   "source": [
    "print(get_outliers(positive_arpu['cost']))\n",
    "print(get_outliers(negative_arpu['cost']))"
   ]
  },
  {
   "cell_type": "code",
   "execution_count": 181,
   "id": "12e58155",
   "metadata": {},
   "outputs": [
    {
     "data": {
      "text/plain": [
       "<matplotlib.legend.Legend at 0x1db9ea0df40>"
      ]
     },
     "execution_count": 181,
     "metadata": {},
     "output_type": "execute_result"
    },
    {
     "data": {
      "image/png": "[encoded data removed]",
      "text/plain": [
       "<Figure size 640x480 with 1 Axes>"
      ]
     },
     "metadata": {},
     "output_type": "display_data"
    }
   ],
   "source": [
    "plt.xlim(0,70993.0)\n",
    "sns.histplot(x=positive_arpu['cost'], bins=300, color='#C92228')\n",
    "sns.histplot(x=negative_arpu['cost'], bins=300, color=\"#005AAB\")\n",
    "plt.title('Распределение средней выручки')\n",
    "plt.xlabel('Выручка на одного клиента')\n",
    "plt.ylabel('Кол-во')\n",
    "plt.legend(['test','control'])"
   ]
  },
  {
   "cell_type": "code",
   "execution_count": 182,
   "id": "7168d9bb",
   "metadata": {},
   "outputs": [
    {
     "data": {
      "text/plain": [
       "Text(0.5, 1.0, 'Средняя выручка на одного клиента')"
      ]
     },
     "execution_count": 182,
     "metadata": {},
     "output_type": "execute_result"
    },
    {
     "data": {
      "image/png": "[encoded data removed]",
      "text/plain": [
       "<Figure size 640x480 with 1 Axes>"
      ]
     },
     "metadata": {},
     "output_type": "display_data"
    }
   ],
   "source": [
    "fig,ax = plt.subplots()\n",
    "sns.barplot(x = ['test', 'control'], y = [positive_arpu['cost'].mean(), negative_arpu['cost'].mean()], palette=['#C92228','#005AAB'])\n",
    "ax.bar_label(ax.containers[0], fontsize=12, label_type='center', color='white', fmt='%.0f')\n",
    "ax.set_title('Средняя выручка на одного клиента')"
   ]
  },
  {
   "cell_type": "code",
   "execution_count": 183,
   "id": "275e484b",
   "metadata": {},
   "outputs": [],
   "source": [
    "# Группируем покупки по дате и id, чтобы получить условный средний чек. \n",
    "\n",
    "bill_group = df_test.groupby(['dt','id'], as_index=False).agg({'cost':'sum'})"
   ]
  },
  {
   "cell_type": "code",
   "execution_count": 184,
   "id": "17f555d1",
   "metadata": {},
   "outputs": [
    {
     "data": {
      "text/plain": [
       "12517"
      ]
     },
     "execution_count": 184,
     "metadata": {},
     "output_type": "execute_result"
    }
   ],
   "source": [
    "positive_bill = bill_group.loc[bill_group['id'].isin(positive_id), :]\n",
    "len(positive_bill)"
   ]
  },
  {
   "cell_type": "code",
   "execution_count": 185,
   "id": "155af9d1",
   "metadata": {},
   "outputs": [
    {
     "data": {
      "text/plain": [
       "11051"
      ]
     },
     "execution_count": 185,
     "metadata": {},
     "output_type": "execute_result"
    }
   ],
   "source": [
    "negative_bill = bill_group.loc[bill_group['id'].isin(negative_id), :]\n",
    "len(negative_bill)"
   ]
  },
  {
   "attachments": {},
   "cell_type": "markdown",
   "id": "5e8e4876",
   "metadata": {},
   "source": [
    "**Основная гипотеза**: нет статистически значимой разницы между средним чеком в тестовой и контрольной группах. \n",
    "\n",
    "**Альтернативная гипотеза**: есть статистически значимая разница между средним чеком в тестовой и контрольной группах."
   ]
  },
  {
   "cell_type": "code",
   "execution_count": 186,
   "id": "9162a602",
   "metadata": {},
   "outputs": [
    {
     "name": "stdout",
     "output_type": "stream",
     "text": [
      "KstestResult(statistic=1.0, pvalue=0.0, statistic_location=12, statistic_sign=-1)\n",
      "KstestResult(statistic=1.0, pvalue=0.0, statistic_location=39, statistic_sign=-1)\n"
     ]
    }
   ],
   "source": [
    "# Проверка нормальности распределения \n",
    "\n",
    "print(stats.kstest(positive_bill['cost'], \"norm\"))\n",
    "print(stats.kstest(negative_bill['cost'], \"norm\"))"
   ]
  },
  {
   "cell_type": "code",
   "execution_count": 187,
   "id": "8a8c9b9c",
   "metadata": {},
   "outputs": [
    {
     "name": "stdout",
     "output_type": "stream",
     "text": [
      "MannwhitneyuResult(statistic=72554564.5, pvalue=7.639013623733095e-11)\n",
      "Есть статистически значимая разница\n"
     ]
    }
   ],
   "source": [
    "# В этом случае также используем критерий Манна-Уитни для проверки гипотезы о среднем чеке\n",
    "\n",
    "mann = stats.mannwhitneyu(positive_bill['cost'], negative_bill['cost'])\n",
    "print(mann)\n",
    "\n",
    "if mann[1] < 0.05:\n",
    "    print('Есть статистически значимая разница')\n",
    "else:\n",
    "    print('Статистически значимой разницы нет')"
   ]
  },
  {
   "cell_type": "code",
   "execution_count": 188,
   "id": "f0cdbd30",
   "metadata": {},
   "outputs": [
    {
     "name": "stdout",
     "output_type": "stream",
     "text": [
      "(-10974.5, 26021.5)\n",
      "(-10501.0, 24219.0)\n"
     ]
    }
   ],
   "source": [
    "print(get_outliers(positive_bill['cost']))\n",
    "print(get_outliers(negative_bill['cost']))"
   ]
  },
  {
   "cell_type": "code",
   "execution_count": 189,
   "id": "3f0408a6",
   "metadata": {},
   "outputs": [
    {
     "data": {
      "text/plain": [
       "<matplotlib.legend.Legend at 0x1dba3c3cd00>"
      ]
     },
     "execution_count": 189,
     "metadata": {},
     "output_type": "execute_result"
    },
    {
     "data": {
      "image/png": "[encoded data removed]",
      "text/plain": [
       "<Figure size 640x480 with 1 Axes>"
      ]
     },
     "metadata": {},
     "output_type": "display_data"
    }
   ],
   "source": [
    "plt.xlim(0, 26021.5)\n",
    "sns.histplot(x=negative_bill['cost'], bins=300, color=\"#005AAB\")\n",
    "sns.histplot(x=positive_bill['cost'], bins=300, color='#C92228')\n",
    "plt.title('Распределение среднего чека')\n",
    "plt.xlabel('Средний чек на одного клиента')\n",
    "plt.ylabel('Кол-во')\n",
    "plt.legend(['control', 'test'])"
   ]
  },
  {
   "cell_type": "code",
   "execution_count": 190,
   "id": "51ba77cb",
   "metadata": {},
   "outputs": [
    {
     "data": {
      "text/plain": [
       "Text(0.5, 1.0, 'Средний чек на одного клиента')"
      ]
     },
     "execution_count": 190,
     "metadata": {},
     "output_type": "execute_result"
    },
    {
     "data": {
      "image/png": "[encoded data removed]",
      "text/plain": [
       "<Figure size 640x480 with 1 Axes>"
      ]
     },
     "metadata": {},
     "output_type": "display_data"
    }
   ],
   "source": [
    "fig,ax = plt.subplots()\n",
    "sns.barplot(x = ['test', 'control'], y = [positive_bill['cost'].mean(), negative_bill['cost'].mean()], palette=['#C92228','#005AAB'])\n",
    "ax.bar_label(ax.containers[0], fontsize=12, label_type='center', color='white', fmt='%.0f')\n",
    "ax.set_title('Средний чек на одного клиента')"
   ]
  },
  {
   "cell_type": "code",
   "execution_count": 191,
   "id": "d368387c",
   "metadata": {},
   "outputs": [],
   "source": [
    "# Сгруппируем данные, чтобы получить количество покупок на одного клиента за время маркетинговой компании\n",
    "\n",
    "count_group = df_test.groupby(['id'], as_index=False).agg({'cost':'count'})"
   ]
  },
  {
   "cell_type": "code",
   "execution_count": 192,
   "id": "504fdb71",
   "metadata": {},
   "outputs": [],
   "source": [
    "positive_сount = count_group.loc[count_group['id'].isin(positive_id), :]\n",
    "negative_сount = count_group.loc[count_group['id'].isin(negative_id), :]"
   ]
  },
  {
   "attachments": {},
   "cell_type": "markdown",
   "id": "9c982030",
   "metadata": {},
   "source": [
    "**Основная гипотеза**: нет статистически значимой разницы между средним количеством купленных товаров  в тестовой и контрольной группах. \n",
    "\n",
    "**Альтернативная гипотеза**: есть статистически значимая разница между средним количеством купленных товаров в тестовой и контрольной группах."
   ]
  },
  {
   "cell_type": "code",
   "execution_count": 193,
   "id": "5673774c",
   "metadata": {},
   "outputs": [
    {
     "name": "stdout",
     "output_type": "stream",
     "text": [
      "KstestResult(statistic=0.8413447460685429, pvalue=0.0, statistic_location=1, statistic_sign=-1)\n",
      "KstestResult(statistic=0.8413447460685429, pvalue=0.0, statistic_location=1, statistic_sign=-1)\n"
     ]
    }
   ],
   "source": [
    "# Проверка нормальности распределения \n",
    "\n",
    "print(stats.kstest(positive_сount['cost'], \"norm\"))\n",
    "print(stats.kstest(negative_сount['cost'], \"norm\"))"
   ]
  },
  {
   "cell_type": "code",
   "execution_count": 194,
   "id": "b371bdce",
   "metadata": {},
   "outputs": [
    {
     "name": "stdout",
     "output_type": "stream",
     "text": [
      "MannwhitneyuResult(statistic=14503562.5, pvalue=4.042645528365477e-87)\n",
      "Есть статистически значимая разница\n"
     ]
    }
   ],
   "source": [
    "# Используем критерий Манна-Уитни\n",
    "\n",
    "mann = stats.mannwhitneyu(positive_сount['cost'], negative_сount['cost'])\n",
    "print(mann)\n",
    "\n",
    "if mann[1] < 0.05:\n",
    "    print('Есть статистически значимая разница')\n",
    "else:\n",
    "    print('Статистически значимой разницы нет')"
   ]
  },
  {
   "cell_type": "code",
   "execution_count": 195,
   "id": "25a241ff",
   "metadata": {},
   "outputs": [
    {
     "name": "stdout",
     "output_type": "stream",
     "text": [
      "(-4.0, 12.0)\n",
      "(-5.0, 11.0)\n"
     ]
    }
   ],
   "source": [
    "print(get_outliers(positive_сount['cost']))\n",
    "print(get_outliers(negative_сount['cost']))"
   ]
  },
  {
   "cell_type": "code",
   "execution_count": 196,
   "id": "19f2166e",
   "metadata": {},
   "outputs": [
    {
     "data": {
      "text/plain": [
       "<matplotlib.legend.Legend at 0x1db9f3e74c0>"
      ]
     },
     "execution_count": 196,
     "metadata": {},
     "output_type": "execute_result"
    },
    {
     "data": {
      "image/png": "[encoded data removed]",
      "text/plain": [
       "<Figure size 640x480 with 1 Axes>"
      ]
     },
     "metadata": {},
     "output_type": "display_data"
    }
   ],
   "source": [
    "plt.xlim(0, 12)\n",
    "sns.histplot(x=negative_сount['cost'], bins=70, color=\"#005AAB\")\n",
    "sns.histplot(x=positive_сount['cost'], bins=70, color='#C92228')\n",
    "plt.title('Распределение среднего количества купленных товаров')\n",
    "plt.xlabel('Купленные товары')\n",
    "plt.ylabel('Кол-во')\n",
    "plt.legend(['control', 'test'])"
   ]
  },
  {
   "cell_type": "code",
   "execution_count": 197,
   "id": "06941910",
   "metadata": {},
   "outputs": [
    {
     "data": {
      "text/plain": [
       "Text(0.5, 1.0, 'Среднее количество купленных товаров на одного клиента')"
      ]
     },
     "execution_count": 197,
     "metadata": {},
     "output_type": "execute_result"
    },
    {
     "data": {
      "image/png": "[encoded data removed]",
      "text/plain": [
       "<Figure size 640x480 with 1 Axes>"
      ]
     },
     "metadata": {},
     "output_type": "display_data"
    }
   ],
   "source": [
    "fig,ax = plt.subplots()\n",
    "sns.barplot(x = ['test', 'control'], y = [positive_сount['cost'].mean(), negative_сount['cost'].mean()], palette=['#C92228','#005AAB'])\n",
    "ax.bar_label(ax.containers[0], fontsize=12, label_type='center', color='white', fmt='%.0f')\n",
    "ax.set_title('Среднее количество купленных товаров на одного клиента')"
   ]
  },
  {
   "attachments": {},
   "cell_type": "markdown",
   "id": "57eabb89",
   "metadata": {},
   "source": [
    "**Вывод**: по итогу проведенной первой маркетинговой компании средняя выручка на одного пользователя в тестовой группе выше на 25% чем в контрольной, средний чек выше на 6% и среднее количество купленных товаров одним клиентом выше на 31%. Из этих результатов можно сделать вывод, что маркетинговая компания была эффективна. "
   ]
  },
  {
   "cell_type": "code",
   "execution_count": null,
   "id": "ae2dea3e",
   "metadata": {},
   "outputs": [],
   "source": []
  }
 ],
 "metadata": {
  "kernelspec": {
   "display_name": "Python 3 (ipykernel)",
   "language": "python",
   "name": "python3"
  },
  "language_info": {
   "codemirror_mode": {
    "name": "ipython",
    "version": 3
   },
   "file_extension": ".py",
   "mimetype": "text/x-python",
   "name": "python",
   "nbconvert_exporter": "python",
   "pygments_lexer": "ipython3",
   "version": "3.9.17"
  }
 },
 "nbformat": 4,
 "nbformat_minor": 5
}
